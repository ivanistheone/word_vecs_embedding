{
 "cells": [
  {
   "cell_type": "markdown",
   "metadata": {},
   "source": [
    "## Explore magnitude\n",
    "\n"
   ]
  },
  {
   "cell_type": "code",
   "execution_count": 1,
   "metadata": {},
   "outputs": [],
   "source": [
    "from pymagnitude import *\n",
    "vectors = Magnitude(\"glove-lemmatized.6B.200d.magnitude\")\n"
   ]
  },
  {
   "cell_type": "code",
   "execution_count": 2,
   "metadata": {},
   "outputs": [
    {
     "data": {
      "text/plain": [
       "336951"
      ]
     },
     "execution_count": 2,
     "metadata": {},
     "output_type": "execute_result"
    }
   ],
   "source": [
    "len(vectors)"
   ]
  },
  {
   "cell_type": "code",
   "execution_count": 3,
   "metadata": {},
   "outputs": [
    {
     "data": {
      "text/plain": [
       "200"
      ]
     },
     "execution_count": 3,
     "metadata": {},
     "output_type": "execute_result"
    }
   ],
   "source": [
    "vectors.dim"
   ]
  },
  {
   "cell_type": "code",
   "execution_count": 4,
   "metadata": {},
   "outputs": [
    {
     "data": {
      "text/plain": [
       "{'closed': False,\n",
       " 'uid': 'adc1c7ac76114a4da071152a976952b2',\n",
       " 'fd': 55,\n",
       " 'memory_db': False,\n",
       " 'path': 'glove-lemmatized.6B.200d.magnitude',\n",
       " '_all_conns': [<sqlite3.Connection at 0x11091c3b0>],\n",
       " 'lazy_loading': 0,\n",
       " 'use_numpy': True,\n",
       " 'case_insensitive': False,\n",
       " 'pad_to_length': None,\n",
       " 'truncate_left': False,\n",
       " 'pad_left': False,\n",
       " 'placeholders': 0,\n",
       " 'ngram_oov': True,\n",
       " 'supress_warnings': False,\n",
       " 'batch_size': 3000000,\n",
       " 'eager': True,\n",
       " 'dtype': numpy.float32,\n",
       " '_namespace': None,\n",
       " '_number_of_values': 1000000,\n",
       " '_conns': {140735944471424: <sqlite3.Connection at 0x11091c3b0>},\n",
       " '_cursors': {140735944471424: <sqlite3.Cursor at 0x11087dd50>},\n",
       " '_threads': [<Thread(Thread-4, started daemon 123145418137600)>,\n",
       "  <Thread(Thread-5, started daemon 123145423392768)>],\n",
       " 'length': 336951,\n",
       " 'original_length': 336951,\n",
       " 'emb_dim': 200,\n",
       " 'precision': 7,\n",
       " 'subword': 1,\n",
       " 'subword_start': 3,\n",
       " 'subword_end': 6,\n",
       " 'approx': 1,\n",
       " 'approx_trees': 50,\n",
       " 'dim': 200,\n",
       " 'highest_entropy_dimensions': [21,\n",
       "  107,\n",
       "  144,\n",
       "  53,\n",
       "  180,\n",
       "  89,\n",
       "  176,\n",
       "  88,\n",
       "  133,\n",
       "  168,\n",
       "  172,\n",
       "  119,\n",
       "  86,\n",
       "  36,\n",
       "  95,\n",
       "  121,\n",
       "  154,\n",
       "  199,\n",
       "  3,\n",
       "  124,\n",
       "  20,\n",
       "  94,\n",
       "  178,\n",
       "  92,\n",
       "  185,\n",
       "  169,\n",
       "  159,\n",
       "  130,\n",
       "  47,\n",
       "  33,\n",
       "  81,\n",
       "  181,\n",
       "  27,\n",
       "  72,\n",
       "  125,\n",
       "  11,\n",
       "  105,\n",
       "  62,\n",
       "  26,\n",
       "  8,\n",
       "  65,\n",
       "  132,\n",
       "  60,\n",
       "  151,\n",
       "  170,\n",
       "  122,\n",
       "  135,\n",
       "  82,\n",
       "  76,\n",
       "  126,\n",
       "  179,\n",
       "  67,\n",
       "  9,\n",
       "  77,\n",
       "  161,\n",
       "  142,\n",
       "  70,\n",
       "  134,\n",
       "  109,\n",
       "  177,\n",
       "  75,\n",
       "  87,\n",
       "  10,\n",
       "  112,\n",
       "  117,\n",
       "  150,\n",
       "  17,\n",
       "  162,\n",
       "  69,\n",
       "  153,\n",
       "  182,\n",
       "  1,\n",
       "  78,\n",
       "  129,\n",
       "  101,\n",
       "  2,\n",
       "  128,\n",
       "  46,\n",
       "  43,\n",
       "  13,\n",
       "  197,\n",
       "  198,\n",
       "  51,\n",
       "  58,\n",
       "  123,\n",
       "  156,\n",
       "  103,\n",
       "  35,\n",
       "  5,\n",
       "  118,\n",
       "  0,\n",
       "  173,\n",
       "  73,\n",
       "  152,\n",
       "  84,\n",
       "  63,\n",
       "  38,\n",
       "  147,\n",
       "  42,\n",
       "  175,\n",
       "  190,\n",
       "  52,\n",
       "  14,\n",
       "  61,\n",
       "  6,\n",
       "  167,\n",
       "  37,\n",
       "  189,\n",
       "  108,\n",
       "  49,\n",
       "  184,\n",
       "  166,\n",
       "  136,\n",
       "  25,\n",
       "  145,\n",
       "  196,\n",
       "  54,\n",
       "  12,\n",
       "  137,\n",
       "  56,\n",
       "  138,\n",
       "  64,\n",
       "  68,\n",
       "  39,\n",
       "  23,\n",
       "  74,\n",
       "  71,\n",
       "  192,\n",
       "  191,\n",
       "  174,\n",
       "  111,\n",
       "  171,\n",
       "  186,\n",
       "  165,\n",
       "  7,\n",
       "  79,\n",
       "  30,\n",
       "  29,\n",
       "  83,\n",
       "  131,\n",
       "  22,\n",
       "  183,\n",
       "  195,\n",
       "  31,\n",
       "  85,\n",
       "  48,\n",
       "  80,\n",
       "  100,\n",
       "  57,\n",
       "  146,\n",
       "  160,\n",
       "  113,\n",
       "  66,\n",
       "  24,\n",
       "  140,\n",
       "  91,\n",
       "  45,\n",
       "  139,\n",
       "  19,\n",
       "  102,\n",
       "  32,\n",
       "  93,\n",
       "  194,\n",
       "  50,\n",
       "  149,\n",
       "  97,\n",
       "  40,\n",
       "  34,\n",
       "  114,\n",
       "  28,\n",
       "  18,\n",
       "  143,\n",
       "  96,\n",
       "  120,\n",
       "  141,\n",
       "  116,\n",
       "  90,\n",
       "  127,\n",
       "  16,\n",
       "  4,\n",
       "  15,\n",
       "  104,\n",
       "  193,\n",
       "  163,\n",
       "  158,\n",
       "  59,\n",
       "  110,\n",
       "  98,\n",
       "  106,\n",
       "  148,\n",
       "  55,\n",
       "  157,\n",
       "  188,\n",
       "  187,\n",
       "  41,\n",
       "  115,\n",
       "  99,\n",
       "  155,\n",
       "  164,\n",
       "  44],\n",
       " 'max_duplicate_keys': 1,\n",
       " 'setup_for_mmap': False,\n",
       " '_all_vectors': None,\n",
       " '_approx_index': None,\n",
       " '_vector_for_key_cached': <function pymagnitude.lru_cache.__call__.<locals>.cached_wrapper(*args, **kwargs)>,\n",
       " '_out_of_vocab_vector_cached': <function pymagnitude.lru_cache.__call__.<locals>.cached_wrapper(*args, **kwargs)>,\n",
       " '_key_for_index_cached': <function pymagnitude.lru_cache.__call__.<locals>.cached_wrapper(*args, **kwargs)>}"
      ]
     },
     "execution_count": 4,
     "metadata": {},
     "output_type": "execute_result"
    }
   ],
   "source": [
    "vectors.__dict__"
   ]
  },
  {
   "cell_type": "markdown",
   "metadata": {},
   "source": [
    "### Querying"
   ]
  },
  {
   "cell_type": "code",
   "execution_count": 5,
   "metadata": {},
   "outputs": [
    {
     "data": {
      "text/plain": [
       "array([ 0.0257308, -0.0922649, -0.0450857, -0.0765431,  0.0669264,\n",
       "       -0.0714136, -0.0983352, -0.0042944, -0.048396 , -0.0088588,\n",
       "        0.0642966, -0.0362467, -0.0534804,  0.0527878, -0.0682717,\n",
       "       -0.0318271, -0.1031019,  0.0990122, -0.0291556,  0.0735453,\n",
       "       -0.0084514,  0.1656088,  0.1140032, -0.1072055,  0.0727728,\n",
       "       -0.0744757,  0.0361408, -0.0576065, -0.0006533, -0.035745 ,\n",
       "        0.0324746,  0.0119584, -0.0502274, -0.1310928,  0.0508228,\n",
       "       -0.0753488,  0.0060528,  0.0141308, -0.0244671, -0.0602433,\n",
       "        0.0141796,  0.0706134, -0.0483162,  0.1625172, -0.1100922,\n",
       "        0.1353613,  0.0512029, -0.0258176,  0.0887202,  0.1673464,\n",
       "       -0.0125953, -0.0112448,  0.0357919, -0.0802995,  0.0864879,\n",
       "       -0.0700041, -0.1601234,  0.0809435, -0.0684505,  0.1114688,\n",
       "       -0.0108506, -0.1249565, -0.0754721,  0.0607467, -0.1093076,\n",
       "       -0.0367587, -0.036764 , -0.100361 ,  0.1467295,  0.016958 ,\n",
       "        0.0391681, -0.0458096, -0.1160289,  0.0708807, -0.0609255,\n",
       "       -0.1163188, -0.0961307, -0.0177545, -0.0519615, -0.0186432,\n",
       "        0.0246545,  0.0269285,  0.0693445, -0.0745989, -0.0013447,\n",
       "       -0.0369358,  0.0471479, -0.0436779,  0.0717747, -0.1250363,\n",
       "       -0.1130623, -0.0481478, -0.0497292,  0.0994496,  0.1012393,\n",
       "        0.0209155,  0.0294212, -0.0052741, -0.0339032,  0.0297424,\n",
       "        0.0427944, -0.0129152,  0.0053817, -0.0427215,  0.0093407,\n",
       "       -0.0571934,  0.0325441,  0.0724152,  0.0651853, -0.0562855,\n",
       "        0.0254478, -0.073455 , -0.0496788,  0.0130157, -0.0283658,\n",
       "       -0.0011339, -0.0453513,  0.1345697, -0.1001804, -0.0381822,\n",
       "        0.0940615, -0.0427197,  0.0232954, -0.0440858,  0.1496128,\n",
       "        0.0337279, -0.0260745,  0.0901732,  0.0427319,  0.0735783,\n",
       "       -0.0583807, -0.0826759, -0.0135669, -0.0220316,  0.023646 ,\n",
       "       -0.1058428,  0.0128696, -0.0598875,  0.0552423,  0.0117261,\n",
       "        0.0697698,  0.0235922,  0.0858682, -0.0490435,  0.1494062,\n",
       "        0.0351635,  0.0613161, -0.0715386,  0.0729204,  0.0119086,\n",
       "       -0.0245087,  0.1371284, -0.0148476,  0.0374826, -0.0037033,\n",
       "        0.1263348,  0.0721705, -0.0396715, -0.2068461, -0.1145534,\n",
       "        0.0612605,  0.03633  ,  0.0636404, -0.0577749,  0.0012486,\n",
       "       -0.016389 , -0.0313602,  0.008767 ,  0.0136911, -0.0355575,\n",
       "       -0.1023763,  0.0368751,  0.0263435,  0.0645865, -0.0114576,\n",
       "        0.0147887, -0.0284179, -0.0372969, -0.0138257,  0.0781471,\n",
       "        0.2184937, -0.0176069, -0.086198 ,  0.0317404, -0.1113889,\n",
       "       -0.04511  ,  0.0541261,  0.0221271,  0.0703339, -0.0442525,\n",
       "        0.0095042, -0.0680599,  0.0186814, -0.0522045, -0.0611668,\n",
       "        0.0588859, -0.0123783,  0.0585283, -0.0006532, -0.0404943],\n",
       "      dtype=float32)"
      ]
     },
     "execution_count": 5,
     "metadata": {},
     "output_type": "execute_result"
    }
   ],
   "source": [
    "vectors.query(\"cat\")\n"
   ]
  },
  {
   "cell_type": "code",
   "execution_count": 6,
   "metadata": {},
   "outputs": [
    {
     "data": {
      "text/plain": [
       "array([[-0.0802431, -0.0571466, -0.0680975,  0.049321 ,  0.1008939,\n",
       "         0.0182107, -0.0548568, -0.0984735, -0.1265133, -0.0766616,\n",
       "        -0.0448297, -0.0412061,  0.0690859,  0.0251435, -0.0942757,\n",
       "         0.1071612, -0.0131503,  0.0488605,  0.0245285, -0.0504778,\n",
       "         0.0157524,  0.2056656, -0.059678 , -0.0602817,  0.0384937,\n",
       "        -0.0025688, -0.1267408, -0.0386467, -0.0921487,  0.0050966,\n",
       "         0.0738158, -0.021861 , -0.0857438,  0.0565794,  0.0812722,\n",
       "        -0.0436223, -0.0515547, -0.0516389, -0.0906787,  0.0606088,\n",
       "         0.1130283,  0.0098184,  0.0156274,  0.0229659, -0.0486387,\n",
       "        -0.0257977,  0.0571382, -0.0631752, -0.0069076,  0.0671934,\n",
       "         0.0169219, -0.0686731,  0.0891021,  0.1142441, -0.0172462,\n",
       "        -0.0973995,  0.0572744,  0.0778957,  0.0014548, -0.0592708,\n",
       "        -0.0195754, -0.0341976, -0.0349136, -0.0532521, -0.0519141,\n",
       "        -0.0141364,  0.1336454,  0.0119231,  0.0950436, -0.0007718,\n",
       "         0.0870018,  0.0628888, -0.1309695, -0.0266331, -0.0688374,\n",
       "         0.0209105, -0.0902632,  0.008059 , -0.1363045,  0.0548638,\n",
       "        -0.0322868,  0.0127745,  0.0045907,  0.0281872,  0.07773  ,\n",
       "        -0.0773482,  0.1186259, -0.0375137,  0.0673913, -0.155769 ,\n",
       "        -0.0372442, -0.0267033,  0.0083135,  0.1336482,  0.0996205,\n",
       "         0.0072558, -0.0875914, -0.0328582,  0.0085143, -0.0666121,\n",
       "         0.0381188, -0.0656673, -0.010093 , -0.0831437, -0.0689946,\n",
       "         0.020005 ,  0.0303957,  0.1295066,  0.0069076,  0.0214904,\n",
       "         0.0874847,  0.108742 ,  0.0129521, -0.0579455, -0.0115647,\n",
       "        -0.0804762,  0.0867252, -0.0197186, -0.0771474, -0.0026722,\n",
       "         0.1145839,  0.0944891, -0.0054145,  0.0004486,  0.056689 ,\n",
       "        -0.0407372,  0.1551372, -0.0390019,  0.0925993, -0.023053 ,\n",
       "        -0.0347928, -0.0593284, -0.0644009,  0.1444671,  0.0250747,\n",
       "        -0.0986083, -0.0719106, -0.0724441,  0.0492845, -0.0057378,\n",
       "         0.0821399,  0.0072377,  0.0732121,  0.0131271,  0.0717969,\n",
       "        -0.0767515, -0.0409717, -0.1421927, -0.085456 , -0.1003239,\n",
       "        -0.0195122,  0.0413971,  0.009345 ,  0.0425553,  0.0466535,\n",
       "         0.0762264,  0.0434075, -0.0050145,  0.0562846, -0.0212812,\n",
       "         0.029879 ,  0.0097609,  0.1145165, -0.0102777, -0.0089519,\n",
       "        -0.0474467, -0.0061954,  0.091253 , -0.044365 ,  0.0617278,\n",
       "        -0.0142263,  0.0247742,  0.0463769,  0.045133 , -0.110358 ,\n",
       "        -0.0038426,  0.0168587, -0.0307902,  0.0836477,  0.2268794,\n",
       "         0.1170141, -0.0927089, -0.2025347,  0.0450853, -0.040184 ,\n",
       "        -0.0135124, -0.0632061,  0.0020912,  0.0749769, -0.0246886,\n",
       "        -0.0689904, -0.0342973, -0.0696124, -0.0894362,  0.0761506,\n",
       "        -0.022087 , -0.059744 , -0.0157538, -0.0439312,  0.1208119],\n",
       "       [ 0.0257308, -0.0922649, -0.0450857, -0.0765431,  0.0669264,\n",
       "        -0.0714136, -0.0983352, -0.0042944, -0.048396 , -0.0088588,\n",
       "         0.0642966, -0.0362467, -0.0534804,  0.0527878, -0.0682717,\n",
       "        -0.0318271, -0.1031019,  0.0990122, -0.0291556,  0.0735453,\n",
       "        -0.0084514,  0.1656088,  0.1140032, -0.1072055,  0.0727728,\n",
       "        -0.0744757,  0.0361408, -0.0576065, -0.0006533, -0.035745 ,\n",
       "         0.0324746,  0.0119584, -0.0502274, -0.1310928,  0.0508228,\n",
       "        -0.0753488,  0.0060528,  0.0141308, -0.0244671, -0.0602433,\n",
       "         0.0141796,  0.0706134, -0.0483162,  0.1625172, -0.1100922,\n",
       "         0.1353613,  0.0512029, -0.0258176,  0.0887202,  0.1673464,\n",
       "        -0.0125953, -0.0112448,  0.0357919, -0.0802995,  0.0864879,\n",
       "        -0.0700041, -0.1601234,  0.0809435, -0.0684505,  0.1114688,\n",
       "        -0.0108506, -0.1249565, -0.0754721,  0.0607467, -0.1093076,\n",
       "        -0.0367587, -0.036764 , -0.100361 ,  0.1467295,  0.016958 ,\n",
       "         0.0391681, -0.0458096, -0.1160289,  0.0708807, -0.0609255,\n",
       "        -0.1163188, -0.0961307, -0.0177545, -0.0519615, -0.0186432,\n",
       "         0.0246545,  0.0269285,  0.0693445, -0.0745989, -0.0013447,\n",
       "        -0.0369358,  0.0471479, -0.0436779,  0.0717747, -0.1250363,\n",
       "        -0.1130623, -0.0481478, -0.0497292,  0.0994496,  0.1012393,\n",
       "         0.0209155,  0.0294212, -0.0052741, -0.0339032,  0.0297424,\n",
       "         0.0427944, -0.0129152,  0.0053817, -0.0427215,  0.0093407,\n",
       "        -0.0571934,  0.0325441,  0.0724152,  0.0651853, -0.0562855,\n",
       "         0.0254478, -0.073455 , -0.0496788,  0.0130157, -0.0283658,\n",
       "        -0.0011339, -0.0453513,  0.1345697, -0.1001804, -0.0381822,\n",
       "         0.0940615, -0.0427197,  0.0232954, -0.0440858,  0.1496128,\n",
       "         0.0337279, -0.0260745,  0.0901732,  0.0427319,  0.0735783,\n",
       "        -0.0583807, -0.0826759, -0.0135669, -0.0220316,  0.023646 ,\n",
       "        -0.1058428,  0.0128696, -0.0598875,  0.0552423,  0.0117261,\n",
       "         0.0697698,  0.0235922,  0.0858682, -0.0490435,  0.1494062,\n",
       "         0.0351635,  0.0613161, -0.0715386,  0.0729204,  0.0119086,\n",
       "        -0.0245087,  0.1371284, -0.0148476,  0.0374826, -0.0037033,\n",
       "         0.1263348,  0.0721705, -0.0396715, -0.2068461, -0.1145534,\n",
       "         0.0612605,  0.03633  ,  0.0636404, -0.0577749,  0.0012486,\n",
       "        -0.016389 , -0.0313602,  0.008767 ,  0.0136911, -0.0355575,\n",
       "        -0.1023763,  0.0368751,  0.0263435,  0.0645865, -0.0114576,\n",
       "         0.0147887, -0.0284179, -0.0372969, -0.0138257,  0.0781471,\n",
       "         0.2184937, -0.0176069, -0.086198 ,  0.0317404, -0.1113889,\n",
       "        -0.04511  ,  0.0541261,  0.0221271,  0.0703339, -0.0442525,\n",
       "         0.0095042, -0.0680599,  0.0186814, -0.0522045, -0.0611668,\n",
       "         0.0588859, -0.0123783,  0.0585283, -0.0006532, -0.0404943]],\n",
       "      dtype=float32)"
      ]
     },
     "execution_count": 6,
     "metadata": {},
     "output_type": "execute_result"
    }
   ],
   "source": [
    "vectors.query(['fat', 'cat'])"
   ]
  },
  {
   "cell_type": "code",
   "execution_count": null,
   "metadata": {},
   "outputs": [],
   "source": []
  },
  {
   "cell_type": "markdown",
   "metadata": {},
   "source": [
    "### Distances"
   ]
  },
  {
   "cell_type": "code",
   "execution_count": 7,
   "metadata": {},
   "outputs": [
    {
     "data": {
      "text/plain": [
       "0.7148602"
      ]
     },
     "execution_count": 7,
     "metadata": {},
     "output_type": "execute_result"
    }
   ],
   "source": [
    "vectors.distance(\"cat\", \"dog\")"
   ]
  },
  {
   "cell_type": "code",
   "execution_count": 8,
   "metadata": {},
   "outputs": [
    {
     "data": {
      "text/plain": [
       "1.0148674"
      ]
     },
     "execution_count": 8,
     "metadata": {},
     "output_type": "execute_result"
    }
   ],
   "source": [
    "vectors.distance(\"cat\", \"feline\")"
   ]
  },
  {
   "cell_type": "code",
   "execution_count": 9,
   "metadata": {},
   "outputs": [
    {
     "data": {
      "text/plain": [
       "1.1173927"
      ]
     },
     "execution_count": 9,
     "metadata": {},
     "output_type": "execute_result"
    }
   ],
   "source": [
    "vectors.distance(\"cat\", \"tiger\")"
   ]
  },
  {
   "cell_type": "code",
   "execution_count": 10,
   "metadata": {},
   "outputs": [
    {
     "data": {
      "text/plain": [
       "1.1182086"
      ]
     },
     "execution_count": 10,
     "metadata": {},
     "output_type": "execute_result"
    }
   ],
   "source": [
    "vectors.distance(\"cat\", \"hamster\")"
   ]
  },
  {
   "cell_type": "code",
   "execution_count": 11,
   "metadata": {},
   "outputs": [
    {
     "data": {
      "text/plain": [
       "1.2045478"
      ]
     },
     "execution_count": 11,
     "metadata": {},
     "output_type": "execute_result"
    }
   ],
   "source": [
    "vectors.distance(\"cat\", \"house\")"
   ]
  },
  {
   "cell_type": "code",
   "execution_count": 12,
   "metadata": {},
   "outputs": [
    {
     "data": {
      "text/plain": [
       "1.2408952"
      ]
     },
     "execution_count": 12,
     "metadata": {},
     "output_type": "execute_result"
    }
   ],
   "source": [
    "vectors.distance(\"cat\", \"car\")"
   ]
  },
  {
   "cell_type": "code",
   "execution_count": 13,
   "metadata": {},
   "outputs": [
    {
     "data": {
      "text/plain": [
       "1.3277861"
      ]
     },
     "execution_count": 13,
     "metadata": {},
     "output_type": "execute_result"
    }
   ],
   "source": [
    "vectors.distance(\"cat\", \"teapot\")"
   ]
  },
  {
   "cell_type": "code",
   "execution_count": null,
   "metadata": {},
   "outputs": [],
   "source": []
  },
  {
   "cell_type": "markdown",
   "metadata": {},
   "source": [
    "### Similarity"
   ]
  },
  {
   "cell_type": "code",
   "execution_count": 14,
   "metadata": {},
   "outputs": [
    {
     "data": {
      "text/plain": [
       "0.7444875"
      ]
     },
     "execution_count": 14,
     "metadata": {},
     "output_type": "execute_result"
    }
   ],
   "source": [
    "vectors.similarity(\"cat\", \"dog\")\n"
   ]
  },
  {
   "cell_type": "code",
   "execution_count": 15,
   "metadata": {},
   "outputs": [
    {
     "data": {
      "text/plain": [
       "[1.0, 0.7444875, 0.48502216, 0.37571687, 0.3748047, 0.27453238, 0.11849197]"
      ]
     },
     "execution_count": 15,
     "metadata": {},
     "output_type": "execute_result"
    }
   ],
   "source": [
    "vectors.similarity(\"cat\", [\"cat\", \"dog\", \"feline\", \"tiger\", \"hamster\", \"house\", \"teapot\"])"
   ]
  },
  {
   "cell_type": "code",
   "execution_count": 16,
   "metadata": {},
   "outputs": [
    {
     "data": {
      "text/plain": [
       "[('dog', 0.7444875240325928),\n",
       " ('pet', 0.6560317277908325),\n",
       " ('rabbit', 0.5639996528625488),\n",
       " ('monkey', 0.55419921875),\n",
       " ('rat', 0.5333892107009888),\n",
       " ('horse', 0.5285084843635559),\n",
       " ('mouse', 0.5077415108680725),\n",
       " ('elephant', 0.5005830526351929),\n",
       " ('leopard', 0.49594441056251526),\n",
       " ('puppy', 0.48642197251319885)]"
      ]
     },
     "execution_count": 16,
     "metadata": {},
     "output_type": "execute_result"
    }
   ],
   "source": [
    "vectors.most_similar('cat')"
   ]
  },
  {
   "cell_type": "code",
   "execution_count": 17,
   "metadata": {},
   "outputs": [
    {
     "data": {
      "text/plain": [
       "[('cat', 0.7444875240325928),\n",
       " ('pet', 0.671768307685852),\n",
       " ('puppy', 0.6212460994720459),\n",
       " ('horse', 0.5868728160858154),\n",
       " ('wolf', 0.5419501662254333),\n",
       " ('hound', 0.5372633934020996),\n",
       " ('breed', 0.5296106338500977),\n",
       " ('sle', 0.5162400007247925),\n",
       " ('kennel', 0.5158265829086304),\n",
       " ('canine', 0.5089066028594971)]"
      ]
     },
     "execution_count": 17,
     "metadata": {},
     "output_type": "execute_result"
    }
   ],
   "source": [
    "vectors.most_similar(['dog'])"
   ]
  },
  {
   "cell_type": "code",
   "execution_count": 18,
   "metadata": {},
   "outputs": [
    {
     "data": {
      "text/plain": [
       "[('pet', 0.710859477519989),\n",
       " ('horse', 0.5971376299858093),\n",
       " ('puppy', 0.5930081605911255),\n",
       " ('rabbit', 0.572822093963623),\n",
       " ('monkey', 0.5372823476791382),\n",
       " ('hound', 0.5291205644607544),\n",
       " ('wolf', 0.5280216932296753),\n",
       " ('rat', 0.5205641984939575),\n",
       " ('animal', 0.5133209824562073),\n",
       " ('breed', 0.5128427147865295)]"
      ]
     },
     "execution_count": 18,
     "metadata": {},
     "output_type": "execute_result"
    }
   ],
   "source": [
    "vectors.most_similar(['cat', 'dog'])"
   ]
  },
  {
   "cell_type": "code",
   "execution_count": 19,
   "metadata": {},
   "outputs": [
    {
     "data": {
      "text/plain": [
       "'dog'"
      ]
     },
     "execution_count": 19,
     "metadata": {},
     "output_type": "execute_result"
    }
   ],
   "source": [
    "vectors.most_similar_to_given(\"cat\", [\"dog\", \"television\", \"laptop\"])"
   ]
  },
  {
   "cell_type": "code",
   "execution_count": 20,
   "metadata": {},
   "outputs": [
    {
     "data": {
      "text/plain": [
       "'cereal'"
      ]
     },
     "execution_count": 20,
     "metadata": {},
     "output_type": "execute_result"
    }
   ],
   "source": [
    "vectors.doesnt_match([\"breakfast\", \"cereal\", \"dinner\", \"lunch\"])"
   ]
  },
  {
   "cell_type": "code",
   "execution_count": 21,
   "metadata": {},
   "outputs": [
    {
     "data": {
      "text/plain": [
       "[('dog', 0.7444875240325928),\n",
       " ('pet', 0.6560317277908325),\n",
       " ('rabbit', 0.5639996528625488),\n",
       " ('monkey', 0.55419921875),\n",
       " ('rat', 0.5333892107009888)]"
      ]
     },
     "execution_count": 21,
     "metadata": {},
     "output_type": "execute_result"
    }
   ],
   "source": [
    "vectors.most_similar(\"cat\", topn = 5) # Most similar by key"
   ]
  },
  {
   "cell_type": "code",
   "execution_count": 22,
   "metadata": {},
   "outputs": [
    {
     "data": {
      "text/plain": [
       "[('cat', 1.0),\n",
       " ('dog', 0.7444875240325928),\n",
       " ('pet', 0.6560317277908325),\n",
       " ('rabbit', 0.5639996528625488),\n",
       " ('monkey', 0.55419921875)]"
      ]
     },
     "execution_count": 22,
     "metadata": {},
     "output_type": "execute_result"
    }
   ],
   "source": [
    "vectors.most_similar(vectors.query(\"cat\"), topn = 5) # Most similar by vector"
   ]
  },
  {
   "cell_type": "code",
   "execution_count": 23,
   "metadata": {},
   "outputs": [
    {
     "data": {
      "text/plain": [
       "[('queen', 0.6978678107261658),\n",
       " ('princes', 0.6081743836402893),\n",
       " ('monarch', 0.5889754295349121),\n",
       " ('throne', 0.5775108933448792),\n",
       " ('prince', 0.5750998258590698),\n",
       " ('elizabeth', 0.546359658241272),\n",
       " ('daughter', 0.5399125814437866),\n",
       " ('kingdom', 0.5318052768707275),\n",
       " ('mother', 0.5168544054031372),\n",
       " ('crown', 0.5164473056793213)]"
      ]
     },
     "execution_count": 23,
     "metadata": {},
     "output_type": "execute_result"
    }
   ],
   "source": [
    "# You can also query for the most similar keys giving positive and negative examples (which, incidentally, solves analogies) like so:\n",
    "\n",
    "vectors.most_similar(positive = [\"woman\", \"king\"], negative = [\"man\"])\n"
   ]
  },
  {
   "cell_type": "code",
   "execution_count": null,
   "metadata": {},
   "outputs": [],
   "source": []
  },
  {
   "cell_type": "code",
   "execution_count": 24,
   "metadata": {},
   "outputs": [
    {
     "data": {
      "text/plain": [
       "[('dog', 0.7444875744244523),\n",
       " ('pet', 0.6560317506302624),\n",
       " ('rabbit', 0.5639996686485347),\n",
       " ('monkey', 0.5541992447883501),\n",
       " ('rat', 0.5333891601057967),\n",
       " ('horse', 0.5285085259386033),\n",
       " ('mouse', 0.50774153052609),\n",
       " ('elephant', 0.5005831209395453),\n",
       " ('leopard', 0.49594453519465986),\n",
       " ('puppy', 0.4864219484574903)]"
      ]
     },
     "execution_count": 24,
     "metadata": {},
     "output_type": "execute_result"
    }
   ],
   "source": [
    "# Fast version\n",
    "# You can also query for the most similar keys using an approximate nearest neighbors index which is much faster, but doesn't guarantee the exact answer:\n",
    "\n",
    "vectors.most_similar_approx(\"cat\")"
   ]
  },
  {
   "cell_type": "code",
   "execution_count": 25,
   "metadata": {},
   "outputs": [
    {
     "data": {
      "text/plain": [
       "[('queen', 0.6978678838348102),\n",
       " ('princes', 0.6081744745313173),\n",
       " ('monarch', 0.5889755894525859),\n",
       " ('throne', 0.5775109670919107),\n",
       " ('prince', 0.5750998366188185),\n",
       " ('kingdom', 0.5318052864696323),\n",
       " ('mother', 0.5168544059813982),\n",
       " ('royal', 0.499346519714436),\n",
       " ('marry', 0.49865716062742393),\n",
       " ('marriage', 0.49167714766837634)]"
      ]
     },
     "execution_count": 25,
     "metadata": {},
     "output_type": "execute_result"
    }
   ],
   "source": [
    "vectors.most_similar_approx(positive = [\"woman\", \"king\"], negative = [\"man\"])"
   ]
  },
  {
   "cell_type": "code",
   "execution_count": null,
   "metadata": {},
   "outputs": [],
   "source": []
  },
  {
   "cell_type": "code",
   "execution_count": 29,
   "metadata": {},
   "outputs": [
    {
     "data": {
      "text/plain": [
       "True"
      ]
     },
     "execution_count": 29,
     "metadata": {},
     "output_type": "execute_result"
    }
   ],
   "source": [
    "vectors.use_numpy"
   ]
  },
  {
   "cell_type": "code",
   "execution_count": null,
   "metadata": {},
   "outputs": [],
   "source": []
  },
  {
   "cell_type": "code",
   "execution_count": 26,
   "metadata": {},
   "outputs": [],
   "source": [
    "# vectors.close()\n"
   ]
  },
  {
   "cell_type": "code",
   "execution_count": null,
   "metadata": {},
   "outputs": [],
   "source": []
  }
 ],
 "metadata": {
  "kernelspec": {
   "display_name": "Python 3",
   "language": "python",
   "name": "python3"
  },
  "language_info": {
   "codemirror_mode": {
    "name": "ipython",
    "version": 3
   },
   "file_extension": ".py",
   "mimetype": "text/x-python",
   "name": "python",
   "nbconvert_exporter": "python",
   "pygments_lexer": "ipython3",
   "version": "3.6.5"
  }
 },
 "nbformat": 4,
 "nbformat_minor": 2
}
